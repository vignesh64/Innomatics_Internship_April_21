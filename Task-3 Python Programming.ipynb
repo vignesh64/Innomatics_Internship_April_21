{
 "cells": [
  {
   "cell_type": "code",
   "execution_count": null,
   "id": "251b5a28",
   "metadata": {},
   "outputs": [],
   "source": [
    "#Question 1 Polar co-ordinates\n",
    "import cmath\n",
    "input1=input()\n",
    "print(abs(complex(input1)))\n",
    "print(cmath.phase(complex(input1)))"
   ]
  },
  {
   "cell_type": "code",
   "execution_count": null,
   "id": "0b5f9954",
   "metadata": {},
   "outputs": [],
   "source": [
    "#Question 2 Mod Divmod\n",
    "a=int(input())\n",
    "b=int(input())\n",
    "print(a//b)\n",
    "print(a%b)\n",
    "print(divmod(a,b)) #gives both quotient and remainder"
   ]
  },
  {
   "cell_type": "code",
   "execution_count": null,
   "id": "e2b12145",
   "metadata": {},
   "outputs": [],
   "source": [
    "#Question 3 Power-mod power\n",
    "a=int(input())\n",
    "b=int(input())\n",
    "c=int(input())\n",
    "print(int(pow(a,b)))\n",
    "print(pow(a,b,c))"
   ]
  },
  {
   "cell_type": "code",
   "execution_count": null,
   "id": "6310a516",
   "metadata": {},
   "outputs": [],
   "source": [
    "#Question 4 integers come in all sizes\n",
    "a=int(input())\n",
    "b=int(input())\n",
    "c=int(input())\n",
    "d=int(input())\n",
    "print((pow(a,b))+(pow(c,d)))"
   ]
  },
  {
   "cell_type": "code",
   "execution_count": null,
   "id": "ddd8946c",
   "metadata": {},
   "outputs": [],
   "source": [
    "#question 5 triangle quest\n",
    "for i in range(1,int(input())): \n",
    "    print(int(i*(10**i-1)/9))"
   ]
  },
  {
   "cell_type": "code",
   "execution_count": null,
   "id": "f7be2207",
   "metadata": {},
   "outputs": [],
   "source": [
    "#question 6 Triangle quest2\n",
    "for i in range(1,int(input())+1): #More than 2 lines will result in 0 score. Do not leave a blank line also\n",
    "    print(((10**i - 1)//9)**2)"
   ]
  },
  {
   "cell_type": "code",
   "execution_count": null,
   "id": "dfb8022e",
   "metadata": {},
   "outputs": [],
   "source": [
    "#question 7 find angle MBC\n",
    "import math \n",
    "ab=int(input())\n",
    "bc=int(input())\n",
    "mcb=math.atan(ab/bc)\n",
    "mbc=mcb\n",
    "degree=math.degrees(mbc)\n",
    "print(str(round(degree))+'°')"
   ]
  }
 ],
 "metadata": {
  "kernelspec": {
   "display_name": "Python 3",
   "language": "python",
   "name": "python3"
  },
  "language_info": {
   "codemirror_mode": {
    "name": "ipython",
    "version": 3
   },
   "file_extension": ".py",
   "mimetype": "text/x-python",
   "name": "python",
   "nbconvert_exporter": "python",
   "pygments_lexer": "ipython3",
   "version": "3.8.3"
  }
 },
 "nbformat": 4,
 "nbformat_minor": 5
}
