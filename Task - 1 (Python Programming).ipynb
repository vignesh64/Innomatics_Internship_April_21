{
 "cells": [
  {
   "cell_type": "code",
   "execution_count": null,
   "id": "2233c964",
   "metadata": {},
   "outputs": [],
   "source": [
    "#Question 1: Hello World!\n",
    "print (\"Hello, World!\")"
   ]
  },
  {
   "cell_type": "code",
   "execution_count": null,
   "id": "7b4b07f1",
   "metadata": {},
   "outputs": [],
   "source": [
    "#Question 2: If-Else\n",
    "\n",
    "n= int(input())\n",
    "if 1<=n<=100:\n",
    "    if n/2 !=0:\n",
    "        print('Weird')\n",
    "    elif n/2 ==0 and 2<=n<=5:\n",
    "        print('Not Weird')\n",
    "    elif n/2 ==0 and 6<=n<=20:\n",
    "        print('Weird')\n",
    "    elif n/2 ==0 and n>20:\n",
    "        print('Not Weird')\n",
    "else:\n",
    "    print('Exceeded the constraint')"
   ]
  },
  {
   "cell_type": "code",
   "execution_count": null,
   "id": "a009375d",
   "metadata": {},
   "outputs": [],
   "source": [
    "#Question 3: Arithmetic operators\n",
    "\n",
    "a = int(input())\n",
    "b = int(input())\n",
    "print(a+b)\n",
    "print(a-b)\n",
    "print(a*b)"
   ]
  },
  {
   "cell_type": "code",
   "execution_count": null,
   "id": "8f2afc99",
   "metadata": {},
   "outputs": [],
   "source": [
    "#Question 4: Division\n",
    "\n",
    "\n",
    "a = int(input())\n",
    "b = int(input())\n",
    "print(a//b) #integer division\n",
    "print(a/b) #float division"
   ]
  },
  {
   "cell_type": "code",
   "execution_count": null,
   "id": "cd136d1a",
   "metadata": {},
   "outputs": [],
   "source": [
    "#Question 5: Loops\n",
    "\n",
    "n = int(input())\n",
    "for i in range (0,n):\n",
    "    print(i*i)"
   ]
  },
  {
   "cell_type": "code",
   "execution_count": null,
   "id": "82a9b323",
   "metadata": {},
   "outputs": [],
   "source": [
    "#Question 6: Write a Function\n",
    "\n",
    "def is_leap(year):\n",
    "    if year%4==0 and year%100 !=0 or year%400==0 :\n",
    "        leap = True\n",
    "    else:\n",
    "        leap= False\n",
    "    return leap\n",
    "\n",
    "year = int(input())\n",
    "print(is_leap(year))"
   ]
  },
  {
   "cell_type": "code",
   "execution_count": null,
   "id": "d9dd58f2",
   "metadata": {},
   "outputs": [],
   "source": [
    "#Question 7 Print function\n",
    "n = int(input())\n",
    "for i in range (1,n+1):\n",
    "    print(i,end='')"
   ]
  }
 ],
 "metadata": {
  "kernelspec": {
   "display_name": "Python 3",
   "language": "python",
   "name": "python3"
  },
  "language_info": {
   "codemirror_mode": {
    "name": "ipython",
    "version": 3
   },
   "file_extension": ".py",
   "mimetype": "text/x-python",
   "name": "python",
   "nbconvert_exporter": "python",
   "pygments_lexer": "ipython3",
   "version": "3.8.3"
  }
 },
 "nbformat": 4,
 "nbformat_minor": 5
}
