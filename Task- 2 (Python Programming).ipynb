{
 "cells": [
  {
   "cell_type": "code",
   "execution_count": null,
   "id": "41d1d208",
   "metadata": {},
   "outputs": [],
   "source": [
    "#Question 1 List comprehension\n",
    "x = int(input())\n",
    "y = int(input())\n",
    "z = int(input())\n",
    "n = int(input())\n",
    "list1=[[x1,y1,z1] for x1 in range(0,x+1) for y1 in range(0,y+1) for z1 in range(0,z+1) if(x1+y1+z1)!=n ]\n",
    "print(list1)"
   ]
  },
  {
   "cell_type": "code",
   "execution_count": null,
   "id": "5081bcae",
   "metadata": {},
   "outputs": [],
   "source": [
    "#Question 2 Find the Runner-Up Score!\n",
    "if __name__ == '__main__':\n",
    "    n = int(raw_input())\n",
    "    arr = map(int, raw_input().split())\n",
    "    maxarr= max(arr)\n",
    "    list1=[n for n in arr if n!=maxarr]        \n",
    "    print(max(list1))\n",
    "    \n",
    "    \n"
   ]
  },
  {
   "cell_type": "code",
   "execution_count": null,
   "id": "a9431ab3",
   "metadata": {},
   "outputs": [],
   "source": [
    "#Question 3 nested lists\n",
    "\n",
    "if __name__ == '__main__':\n",
    "    marksheet=[]\n",
    "    scores=[]\n",
    "    for _ in range(int(input())):\n",
    "        name = input()\n",
    "        score = float(input())\n",
    "        scores.append(score)\n",
    "        marks=list((score,name))\n",
    "        marksheet.append(marks)\n",
    "marksheet.sort()\n",
    "scores.sort()\n",
    "list2= []\n",
    "min_s=min(scores)\n",
    "for i in scores:\n",
    "    if i>min_s:\n",
    "        sec_min=i\n",
    "        break\n",
    "for i in range(len(marksheet)):\n",
    "    if marksheet[i][0]==sec_min:\n",
    "        list2.append(marksheet[i][1])\n",
    "for i in list2:\n",
    "    print(i)\n",
    "        "
   ]
  },
  {
   "cell_type": "code",
   "execution_count": null,
   "id": "bcd0035f",
   "metadata": {},
   "outputs": [],
   "source": [
    "#Question 4 finding the percentage\n",
    "if __name__ == '__main__':\n",
    "    n = int(input())\n",
    "    student_marks = {}\n",
    "    for _ in range(n):\n",
    "        name, *line = input().split()\n",
    "        scores = list(map(float, line))\n",
    "        student_marks[name] = scores\n",
    "    query_name = input()\n",
    "    average=float(sum(student_marks[query_name])/3)\n",
    "    print('%.2f'% round(average,2))"
   ]
  },
  {
   "cell_type": "code",
   "execution_count": null,
   "id": "ac31800f",
   "metadata": {},
   "outputs": [],
   "source": [
    "#Question 5 list\n",
    "\n",
    "if __name__ == '__main__':\n",
    "    N = int(input())\n",
    "    list1=[]\n",
    "    for i in range (0,N):\n",
    "        input1=input().split()\n",
    "        if input1[0]=='insert':\n",
    "            list1.insert(int(input1[1]),int(input1[2]))\n",
    "        elif input1[0]=='remove':\n",
    "            list1.remove(int(input1[1]))\n",
    "    \n",
    "        elif input1[0]=='pop':\n",
    "            list1.pop()\n",
    "\n",
    "        elif input1[0]=='append':\n",
    "            list1.append(int(input1[1]))\n",
    "    \n",
    "        elif input1[0]=='sort':\n",
    "            list1.sort()\n",
    "        elif input1[0]=='reverse':\n",
    "            list1.reverse()\n",
    "        elif input1[0]=='print':\n",
    "            print(list1)\n",
    "        "
   ]
  },
  {
   "cell_type": "code",
   "execution_count": null,
   "id": "2784b682",
   "metadata": {},
   "outputs": [],
   "source": [
    "#Question 6 tuples\n",
    "\n",
    "if __name__ == '__main__':\n",
    "    tuple1=tuple()\n",
    "    n = int(raw_input())\n",
    "    integer_list = map(int, raw_input().split())\n",
    "    tuple1=tuple(integer_list)\n",
    "    print(str(hash(tuple1)))"
   ]
  },
  {
   "cell_type": "code",
   "execution_count": null,
   "id": "21d35253",
   "metadata": {},
   "outputs": [],
   "source": [
    "#Question 7 Introduction TO sets\n",
    "\n",
    "def average(array):\n",
    "    set1=set(array)\n",
    "    length=len(set1)\n",
    "    return ((sum(set1))/length)\n",
    "if __name__ == '__main__':\n",
    "    n = int(input())\n",
    "    arr = list(map(int, input().split()))\n",
    "    result = average(arr)\n",
    "    print(result)"
   ]
  },
  {
   "cell_type": "code",
   "execution_count": null,
   "id": "4a1b18df",
   "metadata": {},
   "outputs": [],
   "source": [
    "#Question 8 no idea\n",
    "\n",
    "if __name__ == '__main__':\n",
    "    m_n = (input().split())\n",
    "    n_list=(input().split())    \n",
    "    integer_list1 = (input().split())\n",
    "    integer_list2 = (input().split())\n",
    "    set1=set(integer_list1)\n",
    "    set2=set(integer_list2)\n",
    "    list1=list()\n",
    "    list2=list()\n",
    "    for i in range(len(n_list)):\n",
    "        if n_list[i] in set1  :\n",
    "            list1.append(n_list[i])\n",
    "    happiness=len(list1)\n",
    "    for j in range(len(n_list)):\n",
    "\n",
    "        if n_list[j] in set2 :\n",
    "            list2.append(n_list[j])\n",
    "    happiness=happiness-len(list2)\n",
    "    print(happiness)"
   ]
  },
  {
   "cell_type": "code",
   "execution_count": null,
   "id": "02748d49",
   "metadata": {},
   "outputs": [],
   "source": [
    "#Question 9 symmetric difference\n",
    "\n",
    "m=int(input())\n",
    "a=(input().split())\n",
    "n=int(input())\n",
    "b=(input().split())\n",
    "a1=set(map(int,a))\n",
    "b1=set(map(int,b))\n",
    "set1=a1.difference(b1)\n",
    "set1.update(b1.difference(a1))\n",
    "list1=list(map(int,set1))\n",
    "list2=sorted(list1)\n",
    "for i in list2:\n",
    "    print(i)"
   ]
  },
  {
   "cell_type": "code",
   "execution_count": null,
   "id": "a9fef80f",
   "metadata": {},
   "outputs": [],
   "source": [
    "#Question 10 set.add()\n",
    "\n",
    "input1= int(input())\n",
    "set1=set()\n",
    "for i in range(0,input1):\n",
    "    set1.add(input())\n",
    "print(len(set1))"
   ]
  },
  {
   "cell_type": "code",
   "execution_count": null,
   "id": "bc35e41e",
   "metadata": {},
   "outputs": [],
   "source": [
    "#question 11 Set .discard(), .remove() & .pop()\n",
    "\n",
    "\n",
    "n = int(input())\n",
    "s = set(map(int, input().split()))\n",
    "m=int(input())\n",
    "for i in range(0,m):\n",
    "    input1=input().split()\n",
    "    if input1[0]=='remove':\n",
    "        s.remove(int(input1[1]))\n",
    "    elif input1[0]=='discard':\n",
    "        s.discard(int(input1[1]))\n",
    "    else :\n",
    "        s.pop()\n",
    "print(sum(list1))\n",
    "\n"
   ]
  },
  {
   "cell_type": "code",
   "execution_count": null,
   "id": "3fb865b8",
   "metadata": {},
   "outputs": [],
   "source": [
    "#Question 12 sets.union() operation\n",
    "\n",
    "m=int(input())\n",
    "input1=set(map(int,input().split()))\n",
    "n=int(input())\n",
    "input2=set(map(int,input().split()))\n",
    "print(len(input1.union(input2)))"
   ]
  },
  {
   "cell_type": "code",
   "execution_count": null,
   "id": "5658f308",
   "metadata": {},
   "outputs": [],
   "source": [
    "#Question 13 sets.intersection() operation\n",
    "\n",
    "m=int(input())\n",
    "input1=set(map(int,input().split()))\n",
    "n=int(input())\n",
    "input2=set(map(int,input().split()))\n",
    "print(len(input1.intersection(input2)))"
   ]
  },
  {
   "cell_type": "code",
   "execution_count": null,
   "id": "40d22ffd",
   "metadata": {},
   "outputs": [],
   "source": [
    "#Question 14 sets.difference() operation\n",
    "m=int(input())\n",
    "input1=set(map(int,input().split()))\n",
    "n=int(input())\n",
    "input2=set(map(int,input().split()))\n",
    "print(len(input1.difference(input2)))"
   ]
  },
  {
   "cell_type": "code",
   "execution_count": null,
   "id": "d03c09d4",
   "metadata": {},
   "outputs": [],
   "source": [
    "#Question 15 symmetric_difference\n",
    "\n",
    "m=int(input())\n",
    "input1=set(map(int,input().split()))\n",
    "n=int(input())\n",
    "input2=set(map(int,input().split()))\n",
    "print(len(input1.symmetric_difference(input2)))"
   ]
  },
  {
   "cell_type": "code",
   "execution_count": null,
   "id": "0eda9e83",
   "metadata": {},
   "outputs": [],
   "source": [
    "#Question 16 mutations\n",
    "\n",
    "n = int(input())\n",
    "s = set(map(int,input().split()))\n",
    "m=int(input())\n",
    "for i in range(0,m):\n",
    "    input1,input2=(input().split())\n",
    "    s1 = set(map(int, input().split()))\n",
    "    if input1=='update':\n",
    "        s.update(s1)\n",
    "    elif input1=='difference_update':\n",
    "        s.difference_update(s1)\n",
    "    elif input1=='symmetric_difference_update':\n",
    "        s.symmetric_difference_update(s1)\n",
    "    else:\n",
    "        s.intersection_update(s1)\n",
    "print(sum(s))\n",
    "\n"
   ]
  },
  {
   "cell_type": "code",
   "execution_count": null,
   "id": "89691d50",
   "metadata": {},
   "outputs": [],
   "source": [
    "#Question 17 check subset\n",
    "#issubset()\n",
    "\n",
    "test_case= int(input())\n",
    "for i in range(test_case):\n",
    "    m=int(input())\n",
    "    a=set(map(int,input().split()))\n",
    "    n=int(input())\n",
    "    b=set(map(int,input().split()))\n",
    "    if(a.intersection(b)==a):\n",
    "        print(True)\n",
    "    else: print(False)\n"
   ]
  },
  {
   "cell_type": "code",
   "execution_count": null,
   "id": "1bfce015",
   "metadata": {},
   "outputs": [],
   "source": [
    "#Question 18 check strict superset\n",
    "\n",
    "a=set(input().split())\n",
    "n=int(input())\n",
    "count=0\n",
    "for i in range(0,n):\n",
    "    set1=set(input().split())\n",
    "    if a.issuperset(set1):\n",
    "        count=count+1\n",
    "\n",
    "print(count==n)\n"
   ]
  },
  {
   "cell_type": "code",
   "execution_count": null,
   "id": "5fc0e0f0",
   "metadata": {},
   "outputs": [],
   "source": [
    "#Question 19 The Captain's Room\n",
    "\n",
    "k=int(input())\n",
    "l=input().split()\n",
    "set1=set()\n",
    "set2=set()\n",
    "for i in range(len(l)):\n",
    "    if l[i] not in set1:\n",
    "        set1.add(l[i])\n",
    "    else:\n",
    "        set2.add(l[i])\n",
    "diff=list(map(int,set1.difference(set2)))\n",
    "print(diff[0])\n"
   ]
  }
 ],
 "metadata": {
  "kernelspec": {
   "display_name": "Python 3",
   "language": "python",
   "name": "python3"
  },
  "language_info": {
   "codemirror_mode": {
    "name": "ipython",
    "version": 3
   },
   "file_extension": ".py",
   "mimetype": "text/x-python",
   "name": "python",
   "nbconvert_exporter": "python",
   "pygments_lexer": "ipython3",
   "version": "3.8.3"
  }
 },
 "nbformat": 4,
 "nbformat_minor": 5
}
