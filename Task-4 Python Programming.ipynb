{
 "cells": [
  {
   "cell_type": "code",
   "execution_count": null,
   "id": "0d88d684",
   "metadata": {},
   "outputs": [],
   "source": [
    "#Question1 sWaP CaSe\n",
    "def swap_case(s):\n",
    "    a=[]\n",
    "    for i in range(len(s)):\n",
    "        a.append( s[i].swapcase())\n",
    "    return ''.join(a)\n",
    "if __name__ == '__main__':\n",
    "    s = str(input())\n",
    "    result = swap_case(s)\n",
    "    print(result)"
   ]
  },
  {
   "cell_type": "code",
   "execution_count": null,
   "id": "683abdaa",
   "metadata": {},
   "outputs": [],
   "source": [
    "#question 2 String Split and Join\n",
    "def split_and_join(line):\n",
    "    line=line.split(' ')\n",
    "    return \"-\".join(line)\n",
    "if __name__ == '__main__':\n",
    "    line = input()\n",
    "    result = split_and_join(line)\n",
    "    print(result)"
   ]
  },
  {
   "cell_type": "code",
   "execution_count": null,
   "id": "30a982d7",
   "metadata": {},
   "outputs": [],
   "source": [
    "#Question 3 What's your name?\n",
    "def print_full_name(first, last):\n",
    "    # Write your code here\n",
    "    print( 'Hello {} {}! You just delved into python.'.format(first,last))\n",
    "if __name__ == '__main__':\n",
    "    first_name = input()\n",
    "    last_name = input()\n",
    "    print_full_name(first_name, last_name)"
   ]
  },
  {
   "cell_type": "code",
   "execution_count": null,
   "id": "5d0c867e",
   "metadata": {},
   "outputs": [],
   "source": [
    "#Question 4 Mutations\n",
    "def mutate_string(string, position, character):\n",
    "    return string[:position]+character+string[position+1:]\n",
    "\n",
    "if __name__ == '__main__':\n",
    "    s = input()\n",
    "    i, c = input().split()\n",
    "    s_new = mutate_string(s, int(i), c)\n",
    "    print(s_new)"
   ]
  },
  {
   "cell_type": "code",
   "execution_count": null,
   "id": "c38125cb",
   "metadata": {},
   "outputs": [],
   "source": [
    "#Question 5 Find a string\n",
    "def count_substring(string, sub_string):\n",
    "    count=0\n",
    "    for i in range(len(string)):\n",
    "        if sub_string[:len(sub_string)] == string[i:i+len(sub_string)]:\n",
    "             count=count+1\n",
    "    return count\n",
    "    \n",
    "\n",
    "if __name__ == '__main__':\n",
    "    string = input().strip()\n",
    "    sub_string = input().strip()\n",
    "    \n",
    "    count = count_substring(string, sub_string)\n",
    "    print(count)"
   ]
  },
  {
   "cell_type": "code",
   "execution_count": null,
   "id": "acb83b6c",
   "metadata": {},
   "outputs": [],
   "source": [
    "#question 6 String Validators\n",
    "if __name__ == '__main__':\n",
    "    s = input()\n",
    "    print(any(i.isalnum() for i in s))\n",
    "    print(any(i.isalpha() for i in s))\n",
    "    print(any(i.isdigit() for i in s))\n",
    "    print(any(i.islower() for i in s))\n",
    "    print(any(i.isupper() for i in s))"
   ]
  },
  {
   "cell_type": "code",
   "execution_count": null,
   "id": "9e667683",
   "metadata": {},
   "outputs": [],
   "source": [
    "#Question 7 Text alignment\n",
    "thickness = int(input()) #This must be an odd number\n",
    "c = 'H'\n",
    "\n",
    "#Top Cone\n",
    "for i in range(thickness):\n",
    "    print((c*i).rjust(thickness-1)+c+(c*i).ljust(thickness-1))\n",
    "\n",
    "#Top Pillars\n",
    "for i in range(thickness+1):\n",
    "    print((c*thickness).center(thickness*2)+(c*thickness).center(thickness*6))\n",
    "\n",
    "#Middle Belt\n",
    "for i in range((thickness+1)//2):\n",
    "    print((c*thickness*5).center(thickness*6))    \n",
    "\n",
    "#Bottom Pillars\n",
    "for i in range(thickness+1):\n",
    "    print((c*thickness).center(thickness*2)+(c*thickness).center(thickness*6))    \n",
    "\n",
    "#Bottom Cone\n",
    "for i in range(thickness):\n",
    "    print(((c*(thickness-i-1)).rjust(thickness)+c+(c*(thickness-i-1)).ljust(thickness)).rjust(thickness*6))"
   ]
  },
  {
   "cell_type": "code",
   "execution_count": null,
   "id": "d67ba03a",
   "metadata": {},
   "outputs": [],
   "source": [
    "#Question 8 Text Wrapper\n",
    "import textwrap\n",
    "\n",
    "def wrap(string, max_width):\n",
    "    l= list()\n",
    "    for i in range(0,len(string),max_width): \n",
    "        l.append(string[i:i+max_width])\n",
    "    return \"\\n\".join(l)\n",
    "    \n",
    "if __name__ == '__main__':\n",
    "    string, max_width = input(), int(input())\n",
    "    result = wrap(string, max_width)\n",
    "    print(result)"
   ]
  },
  {
   "cell_type": "code",
   "execution_count": null,
   "id": "0f96b4c7",
   "metadata": {},
   "outputs": [],
   "source": [
    "#Question 9 string formatting\n",
    "def print_formatted(number):\n",
    "    # your code goes here\n",
    "\n",
    "    list1 = []\n",
    "    \n",
    "    for i in range(1, number+1):\n",
    "        decimal = str(i)\n",
    "        octal = str(oct(i)[2:])\n",
    "        hex_ = str(hex(i)[2:]).upper()\n",
    "        binary = str(bin(i)[2:])\n",
    "\n",
    "        list1.append([decimal, octal, hex_, binary])\n",
    "\n",
    "    width = len(list1[-1][3])  # largest binary number\n",
    "\n",
    "    for i in list1:\n",
    "        print(*(rep.rjust(width) for rep in i))\n",
    "if __name__ == '__main__':\n",
    "    n = int(input())\n",
    "    print_formatted(n)"
   ]
  },
  {
   "cell_type": "code",
   "execution_count": null,
   "id": "e7c149a9",
   "metadata": {},
   "outputs": [],
   "source": [
    "#Question 10 designer door mat\n",
    "N, M = map(int,input().split())\n",
    "for i in range(1,N,2): \n",
    "    print((i * \".|.\").center(M, \"-\"))\n",
    "print(\"WELCOME\".center(M,\"-\"))\n",
    "for i in range(N-2,-1,-2): \n",
    "    print((i * \".|.\").center(M, \"-\"))"
   ]
  },
  {
   "cell_type": "code",
   "execution_count": null,
   "id": "6209839f",
   "metadata": {},
   "outputs": [],
   "source": [
    "#Question 11 Alphabet Rangoli\n",
    "import string\n",
    "def print_rangoli(size):\n",
    "    width = 4 * size - 3\n",
    "    alpha = string.ascii_lowercase\n",
    "    for i in list(range(size))[::-1] + list(range(1, size)):\n",
    "        print('-'.join(alpha[size-1:i:-1] + alpha[i:size]).center(width, '-'))\n",
    "if __name__ == '__main__':\n",
    "    n = int(input())\n",
    "    print_rangoli(n)"
   ]
  },
  {
   "cell_type": "code",
   "execution_count": null,
   "id": "f4b6326d",
   "metadata": {},
   "outputs": [],
   "source": [
    "#Question 12 Capitalize\n",
    "def solve(s):\n",
    "    list1=list()\n",
    "    f=s[:].split(' ')\n",
    "    for i in range(0,len(f)):\n",
    "        s=str()\n",
    "        s=s+f[i]\n",
    "        t=s.capitalize()\n",
    "        list1.append(t)\n",
    "    return (\" \".join(list1))\n",
    "\n",
    "if __name__ == '__main__':\n",
    "    fptr = open(os.environ['OUTPUT_PATH'], 'w')\n",
    "\n",
    "    s = input()\n",
    "\n",
    "    result = solve(s)\n",
    "\n",
    "    fptr.write(result + '\\n')\n",
    "\n",
    "    fptr.close()\n"
   ]
  },
  {
   "cell_type": "code",
   "execution_count": null,
   "id": "f491deea",
   "metadata": {},
   "outputs": [],
   "source": [
    "#Question 13 The minion game\n",
    "def minion_game(string):\n",
    "    vowels = 'AEIOU'\n",
    "    kev = 0\n",
    "    stu = 0\n",
    "    for i in range(len(string)):\n",
    "        if s[i] in vowels:\n",
    "            kev += (len(s)-i)\n",
    "        else:\n",
    "            stu += (len(s)-i)\n",
    "\n",
    "    if kev > stu:\n",
    "        print (\"Kevin\", kev)\n",
    "    elif kev < stu:\n",
    "        print (\"Stuart\", stu)\n",
    "    else:\n",
    "        print (\"Draw\")\n",
    "if __name__ == '__main__':\n",
    "    s = input()\n",
    "    minion_game(s)"
   ]
  },
  {
   "cell_type": "code",
   "execution_count": null,
   "id": "59de71b4",
   "metadata": {},
   "outputs": [],
   "source": [
    "#Question 14 Merge the tools\n",
    "def merge_the_tools(string, k):\n",
    "    # your code goes here\n",
    "\n",
    "    list = []\n",
    "    N = 0\n",
    "    for item in string:\n",
    "        N += 1\n",
    "        if item not in list:\n",
    "            list.append(item)\n",
    "        if N == k:\n",
    "            print (''.join(list))\n",
    "            list = []\n",
    "            N = 0\n",
    "\n",
    "if __name__ == '__main__':\n",
    "    string, k = input(), int(input())\n",
    "    merge_the_tools(string, k)"
   ]
  }
 ],
 "metadata": {
  "kernelspec": {
   "display_name": "Python 3",
   "language": "python",
   "name": "python3"
  },
  "language_info": {
   "codemirror_mode": {
    "name": "ipython",
    "version": 3
   },
   "file_extension": ".py",
   "mimetype": "text/x-python",
   "name": "python",
   "nbconvert_exporter": "python",
   "pygments_lexer": "ipython3",
   "version": "3.8.3"
  }
 },
 "nbformat": 4,
 "nbformat_minor": 5
}
