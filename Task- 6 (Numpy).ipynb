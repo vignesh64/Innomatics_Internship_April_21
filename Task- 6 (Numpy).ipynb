{
 "cells": [
  {
   "cell_type": "code",
   "execution_count": null,
   "metadata": {},
   "outputs": [],
   "source": [
    "#Question 1 Arrays\n",
    "import numpy\n",
    "\n",
    "def arrays(arr):\n",
    "\n",
    "    return numpy.array(arr,float)[::-1]\n",
    "arr = input().strip().split(' ')\n",
    "result = arrays(arr)\n",
    "print(result)"
   ]
  },
  {
   "cell_type": "code",
   "execution_count": null,
   "metadata": {},
   "outputs": [],
   "source": [
    "#Question 2 Shape and Reshape\n",
    "import numpy as np\n",
    "arr=np.array(input().split(),int)\n",
    "print(arr.reshape(3,3))"
   ]
  },
  {
   "cell_type": "code",
   "execution_count": null,
   "metadata": {},
   "outputs": [],
   "source": [
    "#Question 3 transpose and flatten\n",
    "import numpy as np\n",
    "n,m=input().split()\n",
    "arr=np.array([input().strip().split(' ') for _ in range(int(n))],int)\n",
    "print(arr.transpose())\n",
    "print(arr.flatten())\n"
   ]
  },
  {
   "cell_type": "code",
   "execution_count": null,
   "metadata": {},
   "outputs": [],
   "source": [
    "#Question 4 concatenate\n",
    "import numpy\n",
    "n,m,p=input().split()\n",
    "arr1=numpy.array([input().split() for _ in range (int(n))],int)\n",
    "arr2=numpy.array([input().split() for _ in range (int(m))],int)\n",
    "print(numpy.concatenate((arr1,arr2)))"
   ]
  },
  {
   "cell_type": "code",
   "execution_count": null,
   "metadata": {},
   "outputs": [],
   "source": [
    "#Question 5 Zeros and ones\n",
    "import numpy\n",
    "i=tuple(map(int,input().split()))\n",
    "print(numpy.zeros(i,int))\n",
    "print(numpy.ones(i,int))"
   ]
  },
  {
   "cell_type": "code",
   "execution_count": null,
   "metadata": {},
   "outputs": [],
   "source": [
    "#Question 6 eye and identity\n",
    "import numpy\n",
    "numpy.set_printoptions(legacy='1.13')\n",
    "m,i=(map(int,input().split()))\n",
    "print(numpy.eye(m,i))\n"
   ]
  },
  {
   "cell_type": "code",
   "execution_count": null,
   "metadata": {},
   "outputs": [],
   "source": [
    "#Question 7 Array mathematics\n",
    "import numpy\n",
    "n,m=input().split()\n",
    "a=numpy.array([input().split() for _ in range(int(n))],int)\n",
    "b=numpy.array([input().split()for _ in range(int(n))],int)\n",
    "print(a+b)\n",
    "print(a-b)\n",
    "print(a*b)\n",
    "print(a//b)\n",
    "print(a%b)\n",
    "print(a**b)\n"
   ]
  },
  {
   "cell_type": "code",
   "execution_count": null,
   "metadata": {},
   "outputs": [],
   "source": [
    "#Question 8 Floor,ceil and rint\n",
    "import numpy\n",
    "numpy.set_printoptions(legacy='1.13')\n",
    "arr1=numpy.array(input().split(),float)\n",
    "print(numpy.floor(arr1))\n",
    "print(numpy.ceil(arr1))\n",
    "print(numpy.rint(arr1))"
   ]
  },
  {
   "cell_type": "code",
   "execution_count": null,
   "metadata": {},
   "outputs": [],
   "source": [
    "#Question 9 Sum and prod\n",
    "import numpy\n",
    "n,m=map(int,input().split())\n",
    "arr1=numpy.array([input().split() for _ in range (n)],int)\n",
    "arr1=numpy.sum(arr1,axis=0)\n",
    "print(numpy.prod(arr1))"
   ]
  },
  {
   "cell_type": "code",
   "execution_count": null,
   "metadata": {},
   "outputs": [],
   "source": [
    "#Question 10 Min and Max\n",
    "import numpy\n",
    "n,m=map(int,input().split())\n",
    "arr1=numpy.array([input().split() for _ in range(n)],int)\n",
    "arr1=numpy.min(arr1,axis=1)\n",
    "print(numpy.max(arr1))"
   ]
  },
  {
   "cell_type": "code",
   "execution_count": null,
   "metadata": {},
   "outputs": [],
   "source": [
    "#Question 11 Mean,var,std\n",
    "import numpy\n",
    "n,m=map(int,input().split())\n",
    "arr1=numpy.array([input().split() for _ in range (n)],int)\n",
    "print(numpy.mean(arr1,axis=1))\n",
    "print(numpy.var(arr1,axis=0))\n",
    "print(numpy.around(numpy.std(arr1),decimals=11))"
   ]
  },
  {
   "cell_type": "code",
   "execution_count": null,
   "metadata": {},
   "outputs": [],
   "source": [
    "#Question 12 Dot and cross\n",
    "import numpy\n",
    "n=int(input())\n",
    "arr1=numpy.array([input().split() for _ in range(n)],int)\n",
    "arr2=numpy.array([input().split() for _ in range(n)],int)\n",
    "print(numpy.dot(arr1,arr2))"
   ]
  },
  {
   "cell_type": "code",
   "execution_count": null,
   "metadata": {},
   "outputs": [],
   "source": [
    "#Question 13 Inner and outer\n",
    "import numpy\n",
    "arr1=numpy.array(input().split(),int)\n",
    "arr2=numpy.array(input().split(),int)\n",
    "print(numpy.inner(arr1,arr2))\n",
    "print(numpy.outer(arr1,arr2))"
   ]
  },
  {
   "cell_type": "code",
   "execution_count": null,
   "metadata": {},
   "outputs": [],
   "source": [
    "#Question 14 Polynomials\n",
    "import numpy\n",
    "arr1=numpy.array(input().split(),float)\n",
    "x=float(input())\n",
    "print(numpy.polyval(arr1,x))"
   ]
  },
  {
   "cell_type": "code",
   "execution_count": null,
   "metadata": {},
   "outputs": [],
   "source": [
    "#Question 15 linear algebra\n",
    "import numpy\n",
    "n=int(input())\n",
    "arr1=numpy.array([input().split() for _ in range (n)],float)\n",
    "print(numpy.round(numpy.linalg.det(arr1),2))"
   ]
  }
 ],
 "metadata": {
  "kernelspec": {
   "display_name": "Python 3",
   "language": "python",
   "name": "python3"
  },
  "language_info": {
   "codemirror_mode": {
    "name": "ipython",
    "version": 3
   },
   "file_extension": ".py",
   "mimetype": "text/x-python",
   "name": "python",
   "nbconvert_exporter": "python",
   "pygments_lexer": "ipython3",
   "version": "3.8.3"
  }
 },
 "nbformat": 4,
 "nbformat_minor": 4
}
